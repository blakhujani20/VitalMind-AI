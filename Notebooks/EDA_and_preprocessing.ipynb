{
  "nbformat": 4,
  "nbformat_minor": 0,
  "metadata": {
    "colab": {
      "provenance": [],
      "gpuType": "T4"
    },
    "kernelspec": {
      "name": "python3",
      "display_name": "Python 3"
    },
    "language_info": {
      "name": "python"
    },
    "accelerator": "GPU"
  },
  "cells": [
    {
      "cell_type": "code",
      "execution_count": 1,
      "metadata": {
        "id": "UAiBmh7ydl_e"
      },
      "outputs": [],
      "source": [
        "import pandas as pd\n",
        "import numpy as np\n",
        "import matplotlib.pyplot as plt\n",
        "import seaborn as sns\n",
        "\n",
        "sns.set_style(\"whitegrid\")"
      ]
    },
    {
      "cell_type": "code",
      "source": [
        "raw_df = pd.read_csv('dailyActivity_merged.csv')\n",
        "raw_df.info()\n",
        "print(\"\\nMissing values:\\n\", raw_df.isnull().sum())"
      ],
      "metadata": {
        "id": "CKHjJjdCd59R"
      },
      "execution_count": null,
      "outputs": []
    },
    {
      "cell_type": "code",
      "source": [
        "sleep_df = pd.read_csv('sleepDay_merged.csv')\n",
        "\n",
        "# Rename columns\n",
        "activity_df = raw_df.rename(columns={\n",
        "    'ActivityDate': 'Date',\n",
        "    'TotalSteps': 'Steps',\n",
        "    'TotalDistance': 'Distance',\n",
        "    'VeryActiveMinutes': 'VeryActiveMinutes',\n",
        "    'FairlyActiveMinutes': 'FairlyActiveMinutes',\n",
        "    'LightlyActiveMinutes': 'LightlyActiveMinutes',\n",
        "    'SedentaryMinutes': 'SedentaryMinutes',\n",
        "    'Calories': 'Calories'\n",
        "})\n",
        "\n",
        "sleep_df = sleep_df.rename(columns={\n",
        "    'SleepDay': 'Date',\n",
        "    'TotalSleepRecords': 'SleepRecords',\n",
        "    'TotalMinutesAsleep': 'TotalMinutesAsleep',\n",
        "    'TotalTimeInBed': 'TimeInBed'\n",
        "})\n",
        "\n",
        "activity_df['Date'] = pd.to_datetime(activity_df['Date'], format='%m/%d/%Y')\n",
        "sleep_df['Date'] = pd.to_datetime(sleep_df['Date'], format='%m/%d/%Y %I:%M:%S %p')\n",
        "\n",
        "# Merge\n",
        "merged_df = pd.merge(activity_df, sleep_df[['Id', 'Date', 'TotalMinutesAsleep']], on=['Id', 'Date'], how='left')\n",
        "merged_df['SleepHours'] = merged_df['TotalMinutesAsleep'] / 60\n",
        "\n",
        "merged_df['SleepHours'] = merged_df.groupby('Id')['SleepHours'].transform(lambda x: x.fillna(x.mean()))\n",
        "merged_df.dropna(inplace=True)\n",
        "\n",
        "merged_df.info()\n",
        "merged_df.head()"
      ],
      "metadata": {
        "id": "WrVqszTdeLaa"
      },
      "execution_count": null,
      "outputs": []
    },
    {
      "cell_type": "code",
      "source": [
        "print(merged_df[['Steps', 'Calories', 'SleepHours']].describe())\n",
        "\n",
        "plt.figure(figsize=(10, 6))\n",
        "sns.histplot(merged_df['Steps'], bins=30, kde=True)\n",
        "plt.title('Distribution of Daily Steps')\n",
        "plt.xlabel('Steps')\n",
        "plt.ylabel('Frequency')\n",
        "plt.show()\n",
        "\n",
        "# heatMap\n",
        "plt.figure(figsize=(10, 8))\n",
        "correlation_matrix = merged_df[['Steps', 'Calories', 'SleepHours', 'VeryActiveMinutes', 'SedentaryMinutes']].corr()\n",
        "sns.heatmap(correlation_matrix, annot=True, cmap='coolwarm', fmt=\".2f\")\n",
        "plt.title('Correlation Between Health Metrics')\n",
        "plt.show()"
      ],
      "metadata": {
        "id": "RN3FRpZqfT9n"
      },
      "execution_count": null,
      "outputs": []
    },
    {
      "cell_type": "code",
      "source": [
        "df_featured = merged_df.copy()\n",
        "df_featured['DayOfWeek'] = df_featured['Date'].dt.day_name()\n",
        "\n",
        "bins = [0, 7500, 10000, float('inf')]\n",
        "labels = ['Low', 'Moderate', 'High']\n",
        "df_featured['ActivityLevel'] = pd.cut(df_featured['Steps'], bins=bins, labels=labels, right=False)\n",
        "\n",
        "conditions = [\n",
        "    (df_featured['SleepHours'] < 7),\n",
        "    (df_featured['SleepHours'] >= 7) & (df_featured['SleepHours'] <= 8),\n",
        "    (df_featured['SleepHours'] > 8)\n",
        "]\n",
        "outcomes = ['Poor', 'Optimal', 'Good']\n",
        "df_featured['SleepQuality'] = np.select(conditions, outcomes, default='Poor')\n",
        "\n",
        "df_featured.head()"
      ],
      "metadata": {
        "id": "yqOnu263faWI"
      },
      "execution_count": null,
      "outputs": []
    },
    {
      "cell_type": "code",
      "source": [
        "df_featured.to_csv('../data/fitbit_data_processed.csv', index=False)\n",
        "print(\"Processed data saved to ../data/fitbit_data_processed.csv\")"
      ],
      "metadata": {
        "id": "GD84cyj9fhAS"
      },
      "execution_count": 10,
      "outputs": []
    }
  ]
}